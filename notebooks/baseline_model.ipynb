{
 "cells": [
  {
   "cell_type": "markdown",
   "id": "20686a4c",
   "metadata": {},
   "source": [
    "# Rating Prediction, Baseline Model"
   ]
  },
  {
   "cell_type": "code",
   "execution_count": 1,
   "id": "fcc3adfc",
   "metadata": {},
   "outputs": [],
   "source": [
    "import pandas as pd\n",
    "import numpy as np\n",
    "from collections import defaultdict\n",
    "\n",
    "%matplotlib inline\n",
    "%config InlineBackend.figure_format=\"retina\"\n",
    "\n",
    "train_data = pd.read_csv(\"data/interactions_train.csv\")\n",
    "valid_data = pd.read_csv(\"data/interactions_validation.csv\")"
   ]
  },
  {
   "cell_type": "markdown",
   "id": "00b6aad4",
   "metadata": {},
   "source": [
    "## Rating Prediction"
   ]
  },
  {
   "cell_type": "code",
   "execution_count": 2,
   "id": "a47cbba4",
   "metadata": {},
   "outputs": [],
   "source": [
    "train_data[\"user_id\"] = train_data[\"user_id\"].astype(str)\n",
    "train_data[\"recipe_id\"] = train_data[\"recipe_id\"].astype(str)"
   ]
  },
  {
   "cell_type": "code",
   "execution_count": 3,
   "id": "f5eafd91",
   "metadata": {},
   "outputs": [],
   "source": [
    "# combine each user and item together\n",
    "small_df = train_data[[\"user_id\", \"recipe_id\", \"rating\"]]\n",
    "\n",
    "rating_dict = {}\n",
    "items_per_user = defaultdict(set)\n",
    "users_per_item = defaultdict(set)\n",
    "\n",
    "for index, row in small_df.iterrows():\n",
    "    user = row[\"user_id\"]\n",
    "    item = row[\"recipe_id\"]\n",
    "    \n",
    "    users_per_item[item].add(user)\n",
    "    items_per_user[user].add(item)\n",
    "    \n",
    "    rating_dict[(user, item)] = row[\"rating\"]"
   ]
  },
  {
   "cell_type": "code",
   "execution_count": 4,
   "id": "b1f3483f",
   "metadata": {},
   "outputs": [],
   "source": [
    "user_avgs = {}\n",
    "item_avgs = {}\n",
    "\n",
    "for u in items_per_user:\n",
    "    ratings = [rating_dict[(u, i)] for i in items_per_user[u]]\n",
    "    user_avgs[u] = sum(ratings) / len(ratings)\n",
    "    \n",
    "for i in users_per_item:\n",
    "    ratings = [rating_dict[(u, i)] for u in users_per_item[i]]\n",
    "    item_avgs[i] = sum(ratings) / len(ratings)"
   ]
  },
  {
   "cell_type": "code",
   "execution_count": 5,
   "id": "d318edd2",
   "metadata": {},
   "outputs": [],
   "source": [
    "def Jaccard(s1, s2):\n",
    "    numer = len(s1.intersection(s2))\n",
    "    denom = len(s1.union(s2))\n",
    "    \n",
    "    if denom == 0:\n",
    "        return 0\n",
    "    \n",
    "    return numer / denom\n",
    "\n",
    "def most_similar(i, num):\n",
    "    sims = []\n",
    "    users = users_per_item[i]\n",
    "    \n",
    "    for i2 in users_per_item:\n",
    "        if i2 == i:\n",
    "            continue\n",
    "        sim = Jaccard(users, users_per_item[i2])\n",
    "        sims.append((sim, i2))\n",
    "    \n",
    "    sims.sort(reverse=True)\n",
    "    \n",
    "    return sims[:num]"
   ]
  },
  {
   "cell_type": "code",
   "execution_count": 6,
   "id": "56cfd830",
   "metadata": {},
   "outputs": [],
   "source": [
    "reviews_per_user = defaultdict(list)\n",
    "reviews_per_item = defaultdict(list)\n",
    "\n",
    "for index, row in small_df.iterrows():\n",
    "    user = row[\"user_id\"]\n",
    "    item = row[\"recipe_id\"]\n",
    "    \n",
    "    reviews_per_item[item].append(user)\n",
    "    reviews_per_user[user].append(item)\n",
    "\n",
    "rating_mean = train_data[\"rating\"].sum() / len(train_data[\"rating\"])"
   ]
  },
  {
   "cell_type": "code",
   "execution_count": 7,
   "id": "c4444e5b",
   "metadata": {},
   "outputs": [],
   "source": [
    "def predict_rating(user, item):\n",
    "    ratings = []\n",
    "    sims = []\n",
    "    \n",
    "    for i in reviews_per_user[user]:\n",
    "        if i == item:\n",
    "            continue\n",
    "        ratings.append(rating_dict[(user, i)] - item_avgs[i])\n",
    "        sims.append(Jaccard(users_per_item[item], users_per_item[i]))\n",
    "        \n",
    "    if (sum(sims) > 0):\n",
    "        weighted_ratings = [(x * y) for x, y in zip(ratings, sims)]\n",
    "        return item_avgs[item] + sum(weighted_ratings) / sum(sims)\n",
    "    \n",
    "    else:\n",
    "        return rating_mean"
   ]
  },
  {
   "cell_type": "markdown",
   "id": "ceee12bf",
   "metadata": {},
   "source": [
    "## Baseline Model"
   ]
  },
  {
   "cell_type": "code",
   "execution_count": 8,
   "id": "172c9032",
   "metadata": {},
   "outputs": [
    {
     "name": "stdout",
     "output_type": "stream",
     "text": [
      "Now at index: 7020, \n",
      " Progress: 1.0\n"
     ]
    }
   ],
   "source": [
    "from IPython.display import clear_output\n",
    "y_pred = []\n",
    "\n",
    "total = valid_data.shape[0]\n",
    "\n",
    "for index, row in valid_data[[\"user_id\", \"recipe_id\", \"rating\"]].iterrows():\n",
    "    user = row[\"user_id\"]\n",
    "    item = row[\"recipe_id\"]\n",
    "    pred = predict_rating(user, item)\n",
    "    y_pred.append(pred)\n",
    "    if index % 10 == 0:\n",
    "        clear_output(wait=True)\n",
    "        print(f\"Now at index: {index}, \\n Progress: {round(index/total, 3)}\")"
   ]
  },
  {
   "cell_type": "markdown",
   "id": "eafa5357",
   "metadata": {},
   "source": [
    "## Model Evaluation"
   ]
  },
  {
   "cell_type": "code",
   "execution_count": 9,
   "id": "7a9d790b",
   "metadata": {},
   "outputs": [
    {
     "data": {
      "text/plain": [
       "1.8138061805801156"
      ]
     },
     "execution_count": 9,
     "metadata": {},
     "output_type": "execute_result"
    }
   ],
   "source": [
    "y_true = valid_data[\"rating\"]\n",
    "from sklearn.metrics import mean_squared_error\n",
    "mean_squared_error(y_true, y_pred)"
   ]
  }
 ],
 "metadata": {
  "kernelspec": {
   "display_name": "Python 3",
   "language": "python",
   "name": "python3"
  },
  "language_info": {
   "codemirror_mode": {
    "name": "ipython",
    "version": 3
   },
   "file_extension": ".py",
   "mimetype": "text/x-python",
   "name": "python",
   "nbconvert_exporter": "python",
   "pygments_lexer": "ipython3",
   "version": "3.8.8"
  }
 },
 "nbformat": 4,
 "nbformat_minor": 5
}
